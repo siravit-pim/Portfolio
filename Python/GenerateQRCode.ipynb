{
 "cells": [
  {
   "cell_type": "markdown",
   "metadata": {},
   "source": [
    "## Generate QR Code"
   ]
  },
  {
   "cell_type": "code",
   "execution_count": 3,
   "metadata": {},
   "outputs": [],
   "source": [
    "# pip install qrcode\n",
    "import qrcode\n",
    "\n",
    "link = input(\"https://www.linkedin.com/in/siravit-pim/\")\n",
    "qr = qrcode.QRCode(version = 1, box_size = 10, border =2)\n",
    "qr.add_data(link)\n",
    "qr.make(fit = True)\n",
    "img = qr.make_image(fill_color = \"black\", back_color = \"white\")\n",
    "\n",
    "img.save(\"qrCode.png\")\n",
    "\n",
    "# ----------------------------\n",
    "# check path\n",
    "#import os\n",
    "#os.getcwd()"
   ]
  },
  {
   "attachments": {
    "image.png": {
     "image/png": "[encoded data removed]"
    }
   },
   "cell_type": "markdown",
   "metadata": {},
   "source": [
    "![image.png](attachment:image.png)"
   ]
  }
 ],
 "metadata": {
  "kernelspec": {
   "display_name": "Python 3",
   "language": "python",
   "name": "python3"
  },
  "language_info": {
   "codemirror_mode": {
    "name": "ipython",
    "version": 3
   },
   "file_extension": ".py",
   "mimetype": "text/x-python",
   "name": "python",
   "nbconvert_exporter": "python",
   "pygments_lexer": "ipython3",
   "version": "3.11.4"
  }
 },
 "nbformat": 4,
 "nbformat_minor": 2
}
