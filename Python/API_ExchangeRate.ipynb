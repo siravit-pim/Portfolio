{
 "cells": [
  {
   "cell_type": "markdown",
   "metadata": {},
   "source": [
    "# API: Exchange Rate USD From BOT (Bank of Thailand)"
   ]
  },
  {
   "cell_type": "code",
   "execution_count": 2,
   "metadata": {},
   "outputs": [
    {
     "name": "stdout",
     "output_type": "stream",
     "text": [
      "['USD', '2024-09-27', '32.1948000', '32.2866000', '32.6133000', '32.4500000']\n",
      "<class 'list'>\n",
      "['USD', '2024-09-26', '32.4266000', '32.5212000', '32.8486000', '32.6849000']\n",
      "<class 'list'>\n",
      "['USD', '2024-09-25', '32.4078000', '32.4915000', '32.8102000', '32.6509000']\n",
      "<class 'list'>\n"
     ]
    }
   ],
   "source": [
    "#https://apiportal.bot.or.th/\n",
    "##https://apiportal.bot.or.th/bot/public/node/503\n",
    "import http.client\n",
    "conn = http.client.HTTPSConnection(\"apigw1.bot.or.th\")\n",
    "\n",
    "import os\n",
    "from dotenv import load_dotenv\n",
    "load_dotenv()\n",
    "\n",
    "Client_ID = os.getenv(\"Client_ID\")\n",
    "start_period = \"2024-09-25\"\n",
    "end_period = \"2024-09-27\"\n",
    "Curr = 'USD'\n",
    "\n",
    "headers = { 'X-IBM-Client-Id': Client_ID }\n",
    "\n",
    "endpoint = f\"/bot/public/Stat-ExchangeRate/v2/DAILY_AVG_EXG_RATE/?start_period={start_period}&end_period={end_period}&currency={Curr}\"\n",
    "conn.request(\"GET\", endpoint, headers=headers)\n",
    "\n",
    "res = conn.getresponse()\n",
    "data = res.read()\n",
    "\n",
    "if res.status == 200:\n",
    "    data = eval(data.decode(\"utf-8\"))['result']['data']['data_detail']\n",
    "    for i in data:\n",
    "        data = [\n",
    "           i['currency_id'],\n",
    "           i['period'], \n",
    "           i['buying_sight'],\n",
    "           i['buying_transfer'],\n",
    "           i['selling'],\n",
    "           i['mid_rate'] \n",
    "        ]\n",
    "        print(data)\n",
    "        print(type(data))\n",
    "    \n",
    "else:\n",
    "    print(f\"Failed to retrieve data. Status code: {res.status}\")"
   ]
  }
 ],
 "metadata": {
  "kernelspec": {
   "display_name": "Python 3",
   "language": "python",
   "name": "python3"
  },
  "language_info": {
   "codemirror_mode": {
    "name": "ipython",
    "version": 3
   },
   "file_extension": ".py",
   "mimetype": "text/x-python",
   "name": "python",
   "nbconvert_exporter": "python",
   "pygments_lexer": "ipython3",
   "version": "3.8.8"
  }
 },
 "nbformat": 4,
 "nbformat_minor": 2
}
