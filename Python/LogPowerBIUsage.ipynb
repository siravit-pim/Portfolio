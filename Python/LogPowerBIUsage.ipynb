{
 "cells": [
  {
   "cell_type": "markdown",
   "metadata": {},
   "source": [
    "# Log : PowerBI Usage"
   ]
  },
  {
   "cell_type": "code",
   "execution_count": 1,
   "metadata": {},
   "outputs": [],
   "source": [
    "import msal\n",
    "import requests\n",
    "import json\n",
    "import pandas as pd\n",
    "from datetime import date, timedelta\n",
    "import os\n",
    "from dotenv import load_dotenv\n",
    "\n",
    "load_dotenv()\n",
    "\n",
    "class config:\n",
    "    client_id =  os.getenv(\"client_id\")\n",
    "    client_secret = os.getenv(\"client_secret\")\n",
    "    authority_url = os.getenv(\"authority_url\").strip(\"'\")\n",
    "    scope = ['https://analysis.windows.net/powerbi/api/.default']\n",
    "    # ~~~~~~~~~~~~~~~~~~~~~~~~~~~~~~~\n",
    "    mssql_server =  os.getenv(\"mssql_server\")\n",
    "    mssql_db = os.getenv(\"mssql_db\")\n",
    "    mssql_user = os.getenv(\"mssql_user\")\n",
    "    mssql_pw = os.getenv(\"mssql_pw\")\n",
    "    # ~~~~~~~~~~~~~~~~~~~~~~~~~~~~~~~\n",
    "    hana_host = os.getenv(\"hana_host\")\n",
    "    hana_port = os.getenv(\"hana_port\")\n",
    "    hana_user = os.getenv(\"hana_user\")\n",
    "    hana_pw = os.getenv(\"hana_pw\")\n"
   ]
  },
  {
   "cell_type": "code",
   "execution_count": 2,
   "metadata": {},
   "outputs": [
    {
     "name": "stdout",
     "output_type": "stream",
     "text": [
      "processing 2024-08-04\n",
      "processing 2024-08-03\n",
      "processing 2024-08-02\n",
      "processing 2024-08-01\n",
      "processing 2024-07-31\n",
      "processing 2024-07-30\n",
      "processing 2024-07-29\n",
      "processing 2024-07-28\n",
      "processing 2024-07-27\n",
      "processing 2024-07-26\n",
      "processing 2024-07-25\n",
      "processing 2024-07-24\n",
      "processing 2024-07-23\n",
      "processing 2024-07-22\n",
      "processing 2024-07-21\n",
      "processing 2024-07-20\n",
      "processing 2024-07-19\n",
      "processing 2024-07-18\n",
      "processing 2024-07-17\n",
      "processing 2024-07-16\n",
      "processing 2024-07-15\n",
      "processing 2024-07-14\n",
      "processing 2024-07-13\n",
      "processing 2024-07-12\n",
      "processing 2024-07-11\n",
      "processing 2024-07-10\n",
      "processing 2024-07-09\n",
      "processing 2024-07-08\n",
      "processing 2024-07-07\n",
      "done !\n"
     ]
    }
   ],
   "source": [
    "\n",
    "# loop previous 30 days\n",
    "for day in range(1,30):\n",
    "    activityDate = (date.today() - timedelta(days=day)).strftime(\"%Y-%m-%d\")\n",
    "    url = \"https://api.powerbi.com/v1.0/myorg/admin/activityevents?startDateTime='\" + activityDate + \"T00:00:00'&endDateTime='\" + activityDate + \"T23:59:59'\"\n",
    "\n",
    "    #Use MSAL to grab token\n",
    "    app = msal.ConfidentialClientApplication(config.client_id,\n",
    "                                             authority= f'https://login.microsoftonline.com/{config.authority_url}',\n",
    "                                             client_credential= config.client_secret)\n",
    "    result = app.acquire_token_for_client(scopes= config.scope)\n",
    "\n",
    "    #Get latest Power BI Activities\n",
    "    if 'access_token' in result:\n",
    "        access_token = result['access_token']\n",
    "        header = {'Content-Type':'application/json', 'Authorization':f'Bearer {access_token}'}\n",
    "        api_call = requests.get(url=url, headers=header)\n",
    "\n",
    "        #Specify empty Dataframe with all columns\n",
    "        column_names = ['Id', 'RecordType', 'CreationTime', 'Operation', 'OrganizationId', 'UserType', 'UserKey', 'Workload', \\\n",
    "                        'UserId', 'ClientIP', 'UserAgent', 'Activity', 'IsSuccess', 'RequestId', 'ActivityId', 'ItemName', 'WorkSpaceName', \\\n",
    "                        'DatasetName', 'ReportName', 'WorkspaceId', 'ObjectId', 'DatasetId', 'ReportId', 'ReportType', 'DistributionMethod', 'ConsumptionMethod']\n",
    "        df = pd.DataFrame(columns=column_names)\n",
    "\n",
    "        #Set continuation URL\n",
    "        contUrl = api_call.json()['continuationUri']\n",
    "        \n",
    "        #Get all Activities for first hour, save to dataframe (df1) and append to empty created df\n",
    "        result = api_call.json()['activityEventEntities']\n",
    "        df1 = pd.DataFrame(result)\n",
    "        pd.concat([df, df1])\n",
    "\n",
    "        #Call Continuation URL as long as results get one back to get all activities through the day\n",
    "        while contUrl is not None:        \n",
    "            api_call_cont = requests.get(url=contUrl, headers=header)\n",
    "            contUrl = api_call_cont.json()['continuationUri']\n",
    "            result = api_call_cont.json()['activityEventEntities']\n",
    "            df2 = pd.DataFrame(result)\n",
    "            df = pd.concat([df, df2])\n",
    "        \n",
    "        #Set ID as Index of df\n",
    "        df = df.set_index('Id')\n",
    "        \n",
    "    #Save df as CSV\n",
    "    path = r'C:\\Users\\siravit.pim\\Desktop\\forBI/'\n",
    "    df.to_csv(path + activityDate + '.csv')\n",
    "    \n",
    "    print(f\"processing {activityDate}\")\n",
    "print(\"done !\")"
   ]
  }
 ],
 "metadata": {
  "kernelspec": {
   "display_name": "Python 3",
   "language": "python",
   "name": "python3"
  },
  "language_info": {
   "codemirror_mode": {
    "name": "ipython",
    "version": 3
   },
   "file_extension": ".py",
   "mimetype": "text/x-python",
   "name": "python",
   "nbconvert_exporter": "python",
   "pygments_lexer": "ipython3",
   "version": "3.12.2"
  }
 },
 "nbformat": 4,
 "nbformat_minor": 2
}
