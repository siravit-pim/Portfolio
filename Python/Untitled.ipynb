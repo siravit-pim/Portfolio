{
 "cells": [
  {
   "cell_type": "code",
   "execution_count": 18,
   "id": "13e30efd",
   "metadata": {},
   "outputs": [
    {
     "name": "stdout",
     "output_type": "stream",
     "text": [
      "enter radius of circle : 5\n",
      "Area of the circle : 78.54\n",
      "Circumference of the circle : 31.42\n"
     ]
    }
   ],
   "source": [
    "# import library for put value pi\n",
    "import math\n",
    "\n",
    "# set r from input\n",
    "r = float(input(\"enter radius of circle : \"))\n",
    "\n",
    "# calculate Area\n",
    "area = math.pi * (r **2)\n",
    "\n",
    "# calculate Circumference\n",
    "circumference = 2 * math.pi * r\n",
    "\n",
    "# result\n",
    "print(\"Area of the circle :\", round(area,2))\n",
    "print(\"Circumference of the circle :\", round(circumference,2))"
   ]
  },
  {
   "cell_type": "code",
   "execution_count": null,
   "id": "46a98b86",
   "metadata": {},
   "outputs": [],
   "source": []
  }
 ],
 "metadata": {
  "kernelspec": {
   "display_name": "Python 3",
   "language": "python",
   "name": "python3"
  },
  "language_info": {
   "codemirror_mode": {
    "name": "ipython",
    "version": 3
   },
   "file_extension": ".py",
   "mimetype": "text/x-python",
   "name": "python",
   "nbconvert_exporter": "python",
   "pygments_lexer": "ipython3",
   "version": "3.8.8"
  }
 },
 "nbformat": 4,
 "nbformat_minor": 5
}
