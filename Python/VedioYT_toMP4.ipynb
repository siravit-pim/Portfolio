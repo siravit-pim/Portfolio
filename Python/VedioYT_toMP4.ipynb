{
 "cells": [
  {
   "cell_type": "markdown",
   "metadata": {},
   "source": [
    "## Covert Vedio in Youtube to .MP4 file"
   ]
  },
  {
   "cell_type": "code",
   "execution_count": 1,
   "metadata": {},
   "outputs": [
    {
     "name": "stdout",
     "output_type": "stream",
     "text": [
      "[youtube] Extracting URL: https://www.youtube.com/watch?v=z-KsEPcsbls\n",
      "[youtube] z-KsEPcsbls: Downloading webpage\n",
      "[youtube] z-KsEPcsbls: Downloading ios player API JSON\n",
      "[youtube] z-KsEPcsbls: Downloading web creator player API JSON\n",
      "[youtube] z-KsEPcsbls: Downloading m3u8 information\n",
      "[info] z-KsEPcsbls: Downloading 1 format(s): 18\n",
      "[download] Toshiki Soejima × Kyohei Ariga Live in Kimama Studio 2024 (Neo-Soul Guitar).mp4 has already been downloaded\n",
      "[download] 100% of   73.26MiB\n",
      "[youtube] Extracting URL: https://www.youtube.com/watch?v=z-KsEPcsbls\n",
      "[youtube] z-KsEPcsbls: Downloading webpage\n",
      "[youtube] z-KsEPcsbls: Downloading ios player API JSON\n",
      "[youtube] z-KsEPcsbls: Downloading web creator player API JSON\n",
      "[youtube] z-KsEPcsbls: Downloading m3u8 information\n",
      "[info] z-KsEPcsbls: Downloading 1 format(s): 18\n",
      "[download] Toshiki Soejima × Kyohei Ariga Live in Kimama Studio 2024 (Neo-Soul Guitar).mp4 has already been downloaded\n",
      "[download] 100% of   73.26MiB\n"
     ]
    },
    {
     "data": {
      "text/plain": [
       "'Toshiki Soejima × Kyohei Ariga Live in Kimama Studio 2024 (Neo-Soul Guitar).mp4'"
      ]
     },
     "execution_count": 1,
     "metadata": {},
     "output_type": "execute_result"
    }
   ],
   "source": [
    "#pip install yt-dlp\n",
    "import yt_dlp\n",
    "\n",
    "link = \"https://www.youtube.com/watch?v=z-KsEPcsbls\"\n",
    "\n",
    "def download_video(url):\n",
    "    ydl_opts = {\n",
    "        'format': 'best',\n",
    "        'outtmpl': '%(title)s.%(ext)s'\n",
    "    }\n",
    "    \n",
    "    with yt_dlp.YoutubeDL(ydl_opts) as ydl:\n",
    "        ydl.download([url])\n",
    "     \n",
    "    info_dict = ydl.extract_info(url, download=True)     \n",
    "    file_name = ydl.prepare_filename(info_dict)\n",
    "    return file_name\n",
    "    \n",
    "download_video(link)"
   ]
  },
  {
   "cell_type": "markdown",
   "metadata": {},
   "source": [
    "## Convert .MP4 file to .MP3 file"
   ]
  },
  {
   "cell_type": "code",
   "execution_count": 2,
   "metadata": {},
   "outputs": [
    {
     "name": "stdout",
     "output_type": "stream",
     "text": [
      "[youtube] Extracting URL: https://www.youtube.com/watch?v=z-KsEPcsbls\n",
      "[youtube] z-KsEPcsbls: Downloading webpage\n",
      "[youtube] z-KsEPcsbls: Downloading ios player API JSON\n",
      "[youtube] z-KsEPcsbls: Downloading web creator player API JSON\n",
      "[youtube] z-KsEPcsbls: Downloading m3u8 information\n",
      "[info] z-KsEPcsbls: Downloading 1 format(s): 18\n",
      "[download] Toshiki Soejima × Kyohei Ariga Live in Kimama Studio 2024 (Neo-Soul Guitar).mp4 has already been downloaded\n",
      "[download] 100% of   73.26MiB\n",
      "[youtube] Extracting URL: https://www.youtube.com/watch?v=z-KsEPcsbls\n",
      "[youtube] z-KsEPcsbls: Downloading webpage\n",
      "[youtube] z-KsEPcsbls: Downloading ios player API JSON\n",
      "[youtube] z-KsEPcsbls: Downloading web creator player API JSON\n",
      "[youtube] z-KsEPcsbls: Downloading m3u8 information\n",
      "[info] z-KsEPcsbls: Downloading 1 format(s): 18\n",
      "[download] Toshiki Soejima × Kyohei Ariga Live in Kimama Studio 2024 (Neo-Soul Guitar).mp4 has already been downloaded\n",
      "[download] 100% of   73.26MiB\n",
      "[youtube] Extracting URL: https://www.youtube.com/watch?v=z-KsEPcsbls\n",
      "[youtube] z-KsEPcsbls: Downloading webpage\n",
      "[youtube] z-KsEPcsbls: Downloading ios player API JSON\n",
      "[youtube] z-KsEPcsbls: Downloading web creator player API JSON\n",
      "[youtube] z-KsEPcsbls: Downloading m3u8 information\n",
      "[info] z-KsEPcsbls: Downloading 1 format(s): 18\n",
      "[download] Toshiki Soejima × Kyohei Ariga Live in Kimama Studio 2024 (Neo-Soul Guitar).mp4 has already been downloaded\n",
      "[download] 100% of   73.26MiB\n",
      "[youtube] Extracting URL: https://www.youtube.com/watch?v=z-KsEPcsbls\n",
      "[youtube] z-KsEPcsbls: Downloading webpage\n",
      "[youtube] z-KsEPcsbls: Downloading ios player API JSON\n",
      "[youtube] z-KsEPcsbls: Downloading web creator player API JSON\n",
      "[youtube] z-KsEPcsbls: Downloading m3u8 information\n",
      "[info] z-KsEPcsbls: Downloading 1 format(s): 18\n",
      "[download] Toshiki Soejima × Kyohei Ariga Live in Kimama Studio 2024 (Neo-Soul Guitar).mp4 has already been downloaded\n",
      "[download] 100% of   73.26MiB\n",
      "MoviePy - Writing audio in Toshiki Soejima × Kyohei Ariga Live in Kimama Studio 2024 (Neo-Soul Guitar).mp3\n"
     ]
    },
    {
     "name": "stderr",
     "output_type": "stream",
     "text": [
      "                                                                        \r"
     ]
    },
    {
     "name": "stdout",
     "output_type": "stream",
     "text": [
      "MoviePy - Done.\n"
     ]
    }
   ],
   "source": [
    "#pip install moviepy\n",
    "from moviepy.editor import *\n",
    "\n",
    "mp4File = download_video(link)\n",
    "mp3File = download_video(link).replace('.mp4', '.mp3')\n",
    "\n",
    "audioclip = VideoFileClip(mp4File).audio\n",
    "audioclip.write_audiofile(mp3File)"
   ]
  },
  {
   "attachments": {
    "image.png": {
     "image/png": "[encoded data removed]"
    }
   },
   "cell_type": "markdown",
   "metadata": {},
   "source": [
    "![image.png](attachment:image.png)"
   ]
  }
 ],
 "metadata": {
  "kernelspec": {
   "display_name": "Python 3",
   "language": "python",
   "name": "python3"
  },
  "language_info": {
   "codemirror_mode": {
    "name": "ipython",
    "version": 3
   },
   "file_extension": ".py",
   "mimetype": "text/x-python",
   "name": "python",
   "nbconvert_exporter": "python",
   "pygments_lexer": "ipython3",
   "version": "3.11.4"
  }
 },
 "nbformat": 4,
 "nbformat_minor": 2
}
