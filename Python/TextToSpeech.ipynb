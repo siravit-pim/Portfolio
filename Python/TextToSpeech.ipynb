{
 "cells": [
  {
   "cell_type": "markdown",
   "metadata": {},
   "source": [
    "## Text to Speech"
   ]
  },
  {
   "cell_type": "markdown",
   "metadata": {},
   "source": [
    " Google Translate's text-to-speech API.\n",
    " - (need internet)"
   ]
  },
  {
   "cell_type": "code",
   "execution_count": 4,
   "metadata": {},
   "outputs": [
    {
     "name": "stdout",
     "output_type": "stream",
     "text": [
      "Done !\n"
     ]
    }
   ],
   "source": [
    "#pip install playsound\n",
    "#pip install gTTS\n",
    "\n",
    "import playsound #pip install --upgrade pip setuptools wheel\n",
    "import gtts\n",
    "\n",
    "text = \"Hello everyone Python\" # input text and language\n",
    "language = \"en\"\n",
    "\n",
    "# setting sound\n",
    "gttsObject = gtts.gTTS(text = text, tld = \"co.uk\", lang = language, slow = False)\n",
    "gttsObject.save(\"welcome.mp3\")\n",
    "\n",
    "# play mp3 file\n",
    "playsound.playsound(\"welcome.mp3\")\n",
    "print(\"Done !\")"
   ]
  },
  {
   "cell_type": "markdown",
   "metadata": {},
   "source": [
    "### Read PDF file to audio (.mp3)"
   ]
  },
  {
   "cell_type": "code",
   "execution_count": 3,
   "metadata": {},
   "outputs": [
    {
     "name": "stdout",
     "output_type": "stream",
     "text": [
      "Audio book created successfully!\n"
     ]
    }
   ],
   "source": [
    "# pip install pyttsx3\n",
    "\n",
    "import pyttsx3\n",
    "from pdfminer.high_level import extract_text\n",
    "\n",
    "# Initialize pyttsx3 engine\n",
    "engine = pyttsx3.init()\n",
    "\n",
    "# Set voice properties\n",
    "voices = engine.getProperty(\"voices\")\n",
    "engine.setProperty(\"rate\", 150)  # Speed of speech\n",
    "engine.setProperty(\"volume\", 1.0)  # Volume level (1.0 is max)\n",
    "engine.setProperty(\"voice\", voices[0].id)  # Set voice\n",
    "\n",
    "# Path to the PDF file you want to convert to an audiobook\n",
    "to_read_file = \"audioPDF.pdf\"\n",
    "\n",
    "# Extract text using pdfminer\n",
    "try:\n",
    "    full_text = extract_text(to_read_file)\n",
    "    \n",
    "    # If text extraction was successful, read aloud the content\n",
    "    if full_text:\n",
    "        engine.say(full_text)\n",
    "        engine.runAndWait()\n",
    "    \n",
    "        # Save the extracted text to an audio file\n",
    "        engine.save_to_file(full_text, \"audio.mp3\")\n",
    "        engine.runAndWait()\n",
    "        print(\"Audio book created successfully!\")\n",
    "    else:\n",
    "        print(\"No text extracted from the PDF.\")\n",
    "except Exception as e:\n",
    "    print(f\"An error occurred: {e}\")\n",
    "\n",
    "# Stop the engine after completion\n",
    "engine.stop()"
   ]
  },
  {
   "attachments": {
    "image.png": {
     "image/png": "[encoded data removed]"
    }
   },
   "cell_type": "markdown",
   "metadata": {},
   "source": [
    "![image.png](attachment:image.png)"
   ]
  }
 ],
 "metadata": {
  "kernelspec": {
   "display_name": "Python 3",
   "language": "python",
   "name": "python3"
  },
  "language_info": {
   "codemirror_mode": {
    "name": "ipython",
    "version": 3
   },
   "file_extension": ".py",
   "mimetype": "text/x-python",
   "name": "python",
   "nbconvert_exporter": "python",
   "pygments_lexer": "ipython3",
   "version": "3.11.4"
  }
 },
 "nbformat": 4,
 "nbformat_minor": 2
}
