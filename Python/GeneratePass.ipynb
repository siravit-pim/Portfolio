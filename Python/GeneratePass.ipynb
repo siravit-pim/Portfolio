{
 "cells": [
  {
   "cell_type": "markdown",
   "metadata": {},
   "source": [
    "### Generate Password from Character / Number / Punctuation"
   ]
  },
  {
   "cell_type": "code",
   "execution_count": 12,
   "metadata": {},
   "outputs": [
    {
     "name": "stdout",
     "output_type": "stream",
     "text": [
      "Your length, type :  20 4\n",
      "Your Password :  z[)OkL>`=W|is%jJHt_X\n",
      "Your length, type :  20 3\n",
      "Your Password :  DaEfKY8TZd07gAupzrOF\n",
      "Your length, type :  2 1\n",
      "Your Password :  14\n"
     ]
    }
   ],
   "source": [
    "import random\n",
    "import string\n",
    "\n",
    "t1 = string.digits \n",
    "t2 = string.ascii_letters\n",
    "t3 = string.ascii_letters + string.digits \n",
    "t4 = string.ascii_letters + string.digits + string.punctuation\n",
    "\n",
    "def passGenerator(length, choice) :  \n",
    "    if choice == 1 :\n",
    "        t = string.digits \n",
    "        passw = random.sample(t,length)        \n",
    "        passw = \"\".join(passw)\n",
    "    elif choice == 2 :\n",
    "        t = string.ascii_letters\n",
    "        passw = random.sample(t,length)\n",
    "        passw = \"\".join(passw)\n",
    "    elif choice == 3 :\n",
    "        t = string.ascii_letters + string.digits \n",
    "        passw = random.sample(t,length)\n",
    "        passw = \"\".join(passw)\n",
    "    elif choice == 4 :\n",
    "        t = string.ascii_letters + string.digits + string.punctuation\n",
    "        passw = random.sample(t,length)\n",
    "        passw = \"\".join(passw) \n",
    "    else :\n",
    "        print('Wrong')\n",
    "        passw = None \n",
    "    return(passw)\n",
    "\n",
    "while(True) :\n",
    "    length = int(input('input your length do you want : '))\n",
    "    choice = int(input('input your type password do you want : '))\n",
    "    genated = passGenerator(length,choice)\n",
    "    checker = int(input(\"You want to try again ?: [1.Yes/2.No]\"))\n",
    "    \n",
    "    print(\"Your length, type : \", length, choice)\n",
    "    print(\"Your Password : \", genated)\n",
    "    \n",
    "    if checker == 2 :\n",
    "        break\n",
    "    "
   ]
  },
  {
   "cell_type": "markdown",
   "metadata": {},
   "source": [
    "### Create GUI for program generate password"
   ]
  },
  {
   "cell_type": "markdown",
   "metadata": {},
   "source": []
  },
  {
   "attachments": {
    "image.png": {
     "image/png": "[encoded data removed]"
    }
   },
   "cell_type": "markdown",
   "metadata": {},
   "source": [
    "![image.png](attachment:image.png)"
   ]
  },
  {
   "cell_type": "code",
   "execution_count": 1,
   "metadata": {},
   "outputs": [
    {
     "ename": "",
     "evalue": "",
     "output_type": "error",
     "traceback": [
      "\u001b[1;31mThe Kernel crashed while executing code in the current cell or a previous cell. \n",
      "\u001b[1;31mPlease review the code in the cell(s) to identify a possible cause of the failure. \n",
      "\u001b[1;31mClick <a href='https://aka.ms/vscodeJupyterKernelCrash'>here</a> for more info. \n",
      "\u001b[1;31mView Jupyter <a href='command:jupyter.viewOutput'>log</a> for further details."
     ]
    }
   ],
   "source": [
    "import random\n",
    "import string\n",
    "import tkinter as tk\n",
    "import pyperclip as pc\n",
    "\n",
    "def generate():\n",
    "    entry.delete(0, tk.END)\n",
    "    length = lengthInput.get()\n",
    "    \n",
    "    lower = string.ascii_lowercase\n",
    "    upper = string.ascii_uppercase\n",
    "    num = string.digits\n",
    "    symbol = string.punctuation\n",
    "    \n",
    "    lowC = lower+upper\n",
    "    mediumC = lower+upper+num\n",
    "    strongC = lower+upper+num+symbol\n",
    "    password = \"\"\n",
    "    \n",
    "    if strengthInput.get() == 0:\n",
    "        for i in range(length):\n",
    "            password = password + random.choice(lowC)\n",
    "    elif strengthInput.get() == 1:\n",
    "         for i in range(length):\n",
    "            password = password + random.choice(mediumC)\n",
    "    elif strengthInput.get() == 2:\n",
    "         for i in range(length):\n",
    "            password = password + random.choice(strongC)  \n",
    "    entry.insert(0, password)\n",
    "    \n",
    "def copy():\n",
    "    randomPassword = entry.get()\n",
    "    pc.copy(randomPassword)\n",
    "\n",
    "root = tk.Tk()\n",
    "lengthInput = tk.IntVar()\n",
    "strengthInput = tk.IntVar()\n",
    "\n",
    "root.title(\"Random Password Generator\")\n",
    "\n",
    "lengthLabel = tk.Label(root, text = \"Preferred Lenght\").grid(row=0, column=0)\n",
    "lengthBox = tk.Spinbox(root, from_ = 4, to = 10, textvariable = lengthInput).grid(row=0, column=1)\n",
    "\n",
    "strengthLabel = tk.Label(root, text = \"Preferred Strength\").grid(row=0, column=2)\n",
    "strengthLow = tk.Radiobutton(root, text = \"Low\", variable = strengthInput, value = 0).grid(row=0, column=3)\n",
    "strengthMedium = tk.Radiobutton(root, text = \"Medium\", variable = strengthInput, value = 1).grid(row=0, column=4)\n",
    "strengthStrong = tk.Radiobutton(root, text = \"Strong\", variable = strengthInput, value = 2).grid(row=0, column=5)\n",
    "\n",
    "randomPassword = tk.Label(root, text = \"Password\").grid(row=1, column=0)\n",
    "entry = tk.Entry(root)\n",
    "entry.grid(row=1, column=1)\n",
    "\n",
    "generateBotton = tk.Button(root, text = \"Generate\", command = generate).grid(row=1, column=2)\n",
    "copyBotton = tk.Button(root, text = \"Copy\",command = copy).grid(row=1, column=3)\n",
    "\n",
    "root.mainloop()\n",
    "quit()"
   ]
  }
 ],
 "metadata": {
  "kernelspec": {
   "display_name": "Python 3",
   "language": "python",
   "name": "python3"
  },
  "language_info": {
   "codemirror_mode": {
    "name": "ipython",
    "version": 3
   },
   "file_extension": ".py",
   "mimetype": "text/x-python",
   "name": "python",
   "nbconvert_exporter": "python",
   "pygments_lexer": "ipython3",
   "version": "3.11.4"
  }
 },
 "nbformat": 4,
 "nbformat_minor": 2
}
